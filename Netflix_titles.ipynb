{
  "metadata": {
    "kernelspec": {
      "name": "python",
      "display_name": "Python (Pyodide)",
      "language": "python"
    },
    "language_info": {
      "codemirror_mode": {
        "name": "python",
        "version": 3
      },
      "file_extension": ".py",
      "mimetype": "text/x-python",
      "name": "python",
      "nbconvert_exporter": "python",
      "pygments_lexer": "ipython3",
      "version": "3.8"
    }
  },
  "nbformat_minor": 5,
  "nbformat": 4,
  "cells": [
    {
      "cell_type": "markdown",
      "source": "# Data Wrangling (Netflix data)\n",
      "metadata": {},
      "id": "a0778b39-36d8-4899-b70a-c0864206f243"
    },
    {
      "cell_type": "markdown",
      "source": "<h2>Table of content</h2>\n\n<div class=\"alert alert-block alert-info\" style=\"margin-top: 20px\">\n<ul>\n    <li><a href=\"#data_standardization\">Data Summary and Introduction</a></li>\n    <li><a href=\"#identify_handle_missing_values\">Identify and handle missing values</a>\n        <ul>\n            <li><a href=\"#identify_missing_values\">Identify missing values</a></li>\n            <li><a href=\"#deal_missing_values\">Deal with missing values</a></li>\n            <li><a href=\"#correct_data_format\">Correct data format</a></li>\n        </ul>\n</ul>\n</div>\n \n<hr>",
      "metadata": {
        "tags": []
      },
      "id": "b6dd9028-d679-40a8-a8d0-98a9cd01e4c1"
    },
    {
      "cell_type": "markdown",
      "source": "<h2>Data Summary and Introduction</h2>\nAn introduction to the use of big data as a strategic resource. A focus is placed on integrating the knowledge of analytics tools with an understanding of how companies leverage data analytics to gain strategic advantage. A case approach is used to emphasize hands-on learning and a real-world view of big data analytics.\n\nNetflix is a popular streaming service that offers a vast catalog of movies, TV shows, and original contents. This dataset is a cleaned version of the original version which can be found here. The data consist of contents added to Netflix from 2008 to 2021.This dataset will be cleaned with Jupiter notebook/ python and visualized. The purpose of this dataset is to test my data cleaning and visualization skills. The cleaned data will be attached.",
      "metadata": {
        "tags": []
      },
      "id": "fda830d7-3b7f-465e-ab14-62b60ac509bf"
    },
    {
      "cell_type": "markdown",
      "source": "#### Importing Libraries",
      "metadata": {},
      "id": "5610c42d-4b05-4ad0-b366-43135bfd3fe9"
    },
    {
      "cell_type": "code",
      "source": "import pandas as pd \nimport numpy as np ",
      "metadata": {
        "trusted": true
      },
      "execution_count": 29,
      "outputs": [],
      "id": "188de315-a392-4266-a6a6-c48197fae87f"
    },
    {
      "cell_type": "markdown",
      "source": "#### Import the data and explore data \n",
      "metadata": {},
      "id": "99bc713b-387a-42d3-915d-ffc61ed66978"
    },
    {
      "cell_type": "code",
      "source": "df = pd.read_csv('netflix_titles.csv')\ndf = df.copy()\ndf.head()",
      "metadata": {
        "ExecuteTime": {
          "end_time": "2019-08-16T15:48:13.298353Z",
          "start_time": "2019-08-16T15:48:13.153573Z"
        },
        "trusted": true
      },
      "execution_count": 30,
      "outputs": [
        {
          "execution_count": 30,
          "output_type": "execute_result",
          "data": {
            "text/plain": "  show_id     type                  title         director  \\\n0      s1    Movie   Dick Johnson Is Dead  Kirsten Johnson   \n1      s2  TV Show          Blood & Water              NaN   \n2      s3  TV Show              Ganglands  Julien Leclercq   \n3      s4  TV Show  Jailbirds New Orleans              NaN   \n4      s5  TV Show           Kota Factory              NaN   \n\n                                                cast        country  \\\n0                                                NaN  United States   \n1  Ama Qamata, Khosi Ngema, Gail Mabalane, Thaban...   South Africa   \n2  Sami Bouajila, Tracy Gotoas, Samuel Jouy, Nabi...            NaN   \n3                                                NaN            NaN   \n4  Mayur More, Jitendra Kumar, Ranjan Raj, Alam K...          India   \n\n           date_added  release_year rating   duration  \\\n0  September 25, 2021          2020  PG-13     90 min   \n1  September 24, 2021          2021  TV-MA  2 Seasons   \n2  September 24, 2021          2021  TV-MA   1 Season   \n3  September 24, 2021          2021  TV-MA   1 Season   \n4  September 24, 2021          2021  TV-MA  2 Seasons   \n\n                                           listed_in  \\\n0                                      Documentaries   \n1    International TV Shows, TV Dramas, TV Mysteries   \n2  Crime TV Shows, International TV Shows, TV Act...   \n3                             Docuseries, Reality TV   \n4  International TV Shows, Romantic TV Shows, TV ...   \n\n                                         description  \n0  As her father nears the end of his life, filmm...  \n1  After crossing paths at a party, a Cape Town t...  \n2  To protect his family from a powerful drug lor...  \n3  Feuds, flirtations and toilet talk go down amo...  \n4  In a city of coaching centers known to train I...  ",
            "text/html": "<div>\n<style scoped>\n    .dataframe tbody tr th:only-of-type {\n        vertical-align: middle;\n    }\n\n    .dataframe tbody tr th {\n        vertical-align: top;\n    }\n\n    .dataframe thead th {\n        text-align: right;\n    }\n</style>\n<table border=\"1\" class=\"dataframe\">\n  <thead>\n    <tr style=\"text-align: right;\">\n      <th></th>\n      <th>show_id</th>\n      <th>type</th>\n      <th>title</th>\n      <th>director</th>\n      <th>cast</th>\n      <th>country</th>\n      <th>date_added</th>\n      <th>release_year</th>\n      <th>rating</th>\n      <th>duration</th>\n      <th>listed_in</th>\n      <th>description</th>\n    </tr>\n  </thead>\n  <tbody>\n    <tr>\n      <th>0</th>\n      <td>s1</td>\n      <td>Movie</td>\n      <td>Dick Johnson Is Dead</td>\n      <td>Kirsten Johnson</td>\n      <td>NaN</td>\n      <td>United States</td>\n      <td>September 25, 2021</td>\n      <td>2020</td>\n      <td>PG-13</td>\n      <td>90 min</td>\n      <td>Documentaries</td>\n      <td>As her father nears the end of his life, filmm...</td>\n    </tr>\n    <tr>\n      <th>1</th>\n      <td>s2</td>\n      <td>TV Show</td>\n      <td>Blood &amp; Water</td>\n      <td>NaN</td>\n      <td>Ama Qamata, Khosi Ngema, Gail Mabalane, Thaban...</td>\n      <td>South Africa</td>\n      <td>September 24, 2021</td>\n      <td>2021</td>\n      <td>TV-MA</td>\n      <td>2 Seasons</td>\n      <td>International TV Shows, TV Dramas, TV Mysteries</td>\n      <td>After crossing paths at a party, a Cape Town t...</td>\n    </tr>\n    <tr>\n      <th>2</th>\n      <td>s3</td>\n      <td>TV Show</td>\n      <td>Ganglands</td>\n      <td>Julien Leclercq</td>\n      <td>Sami Bouajila, Tracy Gotoas, Samuel Jouy, Nabi...</td>\n      <td>NaN</td>\n      <td>September 24, 2021</td>\n      <td>2021</td>\n      <td>TV-MA</td>\n      <td>1 Season</td>\n      <td>Crime TV Shows, International TV Shows, TV Act...</td>\n      <td>To protect his family from a powerful drug lor...</td>\n    </tr>\n    <tr>\n      <th>3</th>\n      <td>s4</td>\n      <td>TV Show</td>\n      <td>Jailbirds New Orleans</td>\n      <td>NaN</td>\n      <td>NaN</td>\n      <td>NaN</td>\n      <td>September 24, 2021</td>\n      <td>2021</td>\n      <td>TV-MA</td>\n      <td>1 Season</td>\n      <td>Docuseries, Reality TV</td>\n      <td>Feuds, flirtations and toilet talk go down amo...</td>\n    </tr>\n    <tr>\n      <th>4</th>\n      <td>s5</td>\n      <td>TV Show</td>\n      <td>Kota Factory</td>\n      <td>NaN</td>\n      <td>Mayur More, Jitendra Kumar, Ranjan Raj, Alam K...</td>\n      <td>India</td>\n      <td>September 24, 2021</td>\n      <td>2021</td>\n      <td>TV-MA</td>\n      <td>2 Seasons</td>\n      <td>International TV Shows, Romantic TV Shows, TV ...</td>\n      <td>In a city of coaching centers known to train I...</td>\n    </tr>\n  </tbody>\n</table>\n</div>"
          },
          "metadata": {}
        }
      ],
      "id": "7c5b5188-1496-4a29-8c9d-f2f98d110acf"
    },
    {
      "cell_type": "markdown",
      "source": "<h3 id=\"Missing data\"> Missing data</h3><b</b>\n\nSteps for working with missing data:\n<ol>\n    <li>dentify missing data</li>\n    <li>deal with missing data</li>\n    <li>correct data format</li>\n</ol>",
      "metadata": {},
      "id": "5b1bef31-1233-4f20-9f6c-f4895ca9477c"
    },
    {
      "cell_type": "code",
      "source": "df.shape",
      "metadata": {
        "ExecuteTime": {
          "end_time": "2019-08-16T15:48:13.305335Z",
          "start_time": "2019-08-16T15:48:13.300348Z"
        },
        "trusted": true
      },
      "execution_count": 31,
      "outputs": [
        {
          "execution_count": 31,
          "output_type": "execute_result",
          "data": {
            "text/plain": "(8807, 12)"
          },
          "metadata": {}
        }
      ],
      "id": "c40e9e77-dc17-4b91-97a3-b2022adb6eb3"
    },
    {
      "cell_type": "markdown",
      "source": "<h4>1. Evaluating Missing Data</h4>\n",
      "metadata": {},
      "id": "dc68f9a2-c5b3-4c34-91c2-67cdf3afa00d"
    },
    {
      "cell_type": "code",
      "source": "df.isnull().any().any()",
      "metadata": {
        "trusted": true
      },
      "execution_count": 32,
      "outputs": [
        {
          "execution_count": 32,
          "output_type": "execute_result",
          "data": {
            "text/plain": "True"
          },
          "metadata": {}
        }
      ],
      "id": "a8f23938-89a6-47d8-a71a-a3def672c341"
    },
    {
      "cell_type": "markdown",
      "source": "\"True\" stands for missing value, while \"False\" stands for not missing value.\n\n",
      "metadata": {},
      "id": "89bd5165-7f35-4b72-b75a-0ea02a31a204"
    },
    {
      "cell_type": "markdown",
      "source": "<h4>2. Count missing values in each column</h4>\n",
      "metadata": {},
      "id": "42169bc4-afe1-4740-8101-56297603aaa7"
    },
    {
      "cell_type": "code",
      "source": "df.isnull().sum()",
      "metadata": {
        "trusted": true
      },
      "execution_count": 33,
      "outputs": [
        {
          "execution_count": 33,
          "output_type": "execute_result",
          "data": {
            "text/plain": "show_id            0\ntype               0\ntitle              0\ndirector        2634\ncast             825\ncountry          831\ndate_added        10\nrelease_year       0\nrating             4\nduration           3\nlisted_in          0\ndescription        0\ndtype: int64"
          },
          "metadata": {}
        }
      ],
      "id": "90362ece-a52f-4842-9fc4-909f098286e7"
    },
    {
      "cell_type": "code",
      "source": "df[\"duration\"][df[\"duration\"].isnull()==True]",
      "metadata": {
        "trusted": true
      },
      "execution_count": 34,
      "outputs": [
        {
          "execution_count": 34,
          "output_type": "execute_result",
          "data": {
            "text/plain": "5541    NaN\n5794    NaN\n5813    NaN\nName: duration, dtype: object"
          },
          "metadata": {}
        }
      ],
      "id": "00daae3f-cc47-46c3-a4af-4a0f43381e1c"
    },
    {
      "cell_type": "markdown",
      "source": "Based on the summary above, each column has 8807 rows of data, six columns containing missing data:\n<ol>\n    <li>\"director\": 2634 missing data</li>\n    <li>\"cast\": 825 missing data</li>\n    <li>\"country\": 831 missing data</li>\n    <li>\"date_added\" : 10 missing data</li>\n    <li>\"rating\": 4 missing data</li>\n    <li>\"duration\": 3 missing data</li>\n   \n</ol>",
      "metadata": {},
      "id": "d4dbc0c8-9983-4ac8-a8ac-163e4b484eb6"
    },
    {
      "cell_type": "markdown",
      "source": "<h3 id=\"deal_missing_values\">Deal with missing data</h3>\n\nThere are different ways to deal with missing data, as we have discussed. Consider:\n\n<ol>\n    <li>Drop data<br>\n        a. drop the whole row<br>\n        b. drop the whole column\n    </li>\n    <li>Replace data<br>\n        a. replace it by correlation<br>\n        b. replace it by frequency<br>\n        c. replace it based on other functions\n    </li>\n</ol>\n\n\n",
      "metadata": {},
      "id": "7db2488c-71a8-4c41-8733-f0c9ae1f91e5"
    },
    {
      "cell_type": "markdown",
      "source": "1. \n(a) The \"date_added\" rows nulls is just 10 out of over 8000 rows, deleting them cannot affect our analysis or visualization. ",
      "metadata": {},
      "id": "40c5b6d1-d5b3-4d13-abc5-75fa5f654a49"
    },
    {
      "cell_type": "code",
      "source": "# simply drop whole row with NaN in \"date_added\" column\nbefore_rows = df.shape[0]\ndf.dropna(subset=[\"date_added\"], axis=0, inplace=True)\nafter_rows = df.shape[0]\nprint(\"Number of dropped rows {}\".format(before_rows - after_rows))\n# reset index, because we droped 10 rows\ndf.reset_index(drop=True, inplace=True)",
      "metadata": {
        "trusted": true
      },
      "execution_count": 35,
      "outputs": [
        {
          "name": "stdout",
          "text": "Number of dropped rows 10\n",
          "output_type": "stream"
        }
      ],
      "id": "6992a5f5-9b87-4b0c-8642-44df54da41d7"
    },
    {
      "cell_type": "code",
      "source": "df.shape",
      "metadata": {
        "trusted": true
      },
      "execution_count": 36,
      "outputs": [
        {
          "execution_count": 36,
          "output_type": "execute_result",
          "data": {
            "text/plain": "(8797, 12)"
          },
          "metadata": {}
        }
      ],
      "id": "6fdc5bb0-fa00-472a-9500-8e5b0e296552"
    },
    {
      "cell_type": "markdown",
      "source": "We can do the same for the \"rating\" rows (4 missing) as well as the \"duration\" (3 missing) rows.",
      "metadata": {},
      "id": "6df70e20-19f0-4bba-a0a8-28b6ad15ccf6"
    },
    {
      "cell_type": "code",
      "source": "# simply drop whole row with NaN in \"results\" column\nbefore_rows = df.shape[0]\ndf.dropna(subset=[\"rating\"], axis=0, inplace=True)\nafter_rows = df.shape[0]\nprint(\"Number of dropped rows {}\".format(before_rows - after_rows))\n# reset index, because we droped 10 rows\ndf.reset_index(drop=True, inplace=True)",
      "metadata": {
        "trusted": true
      },
      "execution_count": 37,
      "outputs": [
        {
          "name": "stdout",
          "text": "Number of dropped rows 4\n",
          "output_type": "stream"
        }
      ],
      "id": "fc3d7283-fc74-432c-8593-24854bff4c0c"
    },
    {
      "cell_type": "code",
      "source": "df.shape",
      "metadata": {
        "trusted": true
      },
      "execution_count": 38,
      "outputs": [
        {
          "execution_count": 38,
          "output_type": "execute_result",
          "data": {
            "text/plain": "(8793, 12)"
          },
          "metadata": {}
        }
      ],
      "id": "7e371948-3638-491f-9a5f-0f613bef5902"
    },
    {
      "cell_type": "code",
      "source": "# simply drop whole row with NaN in \"results\" column\nbefore_rows = df.shape[0]\ndf.dropna(subset=[\"duration\"], axis=0, inplace=True)\nafter_rows = df.shape[0]\nprint(\"Number of dropped rows {}\".format(before_rows - after_rows))\n# reset index, because we droped 10 rows\ndf.reset_index(drop=True, inplace=True)",
      "metadata": {
        "trusted": true
      },
      "execution_count": 39,
      "outputs": [
        {
          "name": "stdout",
          "text": "Number of dropped rows 3\n",
          "output_type": "stream"
        }
      ],
      "id": "4b984956-2cdf-4949-93b0-9296b46091fc"
    },
    {
      "cell_type": "code",
      "source": "df.shape",
      "metadata": {
        "trusted": true
      },
      "execution_count": 40,
      "outputs": [
        {
          "execution_count": 40,
          "output_type": "execute_result",
          "data": {
            "text/plain": "(8790, 12)"
          },
          "metadata": {}
        }
      ],
      "id": "4d0d1ea9-3d8d-4448-8344-81e8990f07f2"
    },
    {
      "cell_type": "markdown",
      "source": "2. The director column nulls is about 30% of the whole column, therefore I will not delete them. I will rather find another column to populate it. To populate the director column, we want to find out if there is relationship between movie_cast column and director column. Just like the director column, I will not delete the nulls in country. Since the country column is related to director and movie, we are going to populate the country column with the director column.",
      "metadata": {},
      "id": "b9a55158-e5ff-4cc5-99e8-281d70645bea"
    },
    {
      "cell_type": "code",
      "source": "# Populate 'director' column with 'cast' for null rows\ndf['director'].fillna(df['cast'], inplace=True)\n\n# Now, 'director' column should be updated\nprint(df)\n",
      "metadata": {
        "trusted": true
      },
      "execution_count": 42,
      "outputs": [
        {
          "name": "stdout",
          "text": "     show_id     type                  title  \\\n0         s1    Movie   Dick Johnson Is Dead   \n1         s2  TV Show          Blood & Water   \n2         s3  TV Show              Ganglands   \n3         s4  TV Show  Jailbirds New Orleans   \n4         s5  TV Show           Kota Factory   \n...      ...      ...                    ...   \n8785   s8803    Movie                 Zodiac   \n8786   s8804  TV Show            Zombie Dumb   \n8787   s8805    Movie             Zombieland   \n8788   s8806    Movie                   Zoom   \n8789   s8807    Movie                 Zubaan   \n\n                                               director  \\\n0                                       Kirsten Johnson   \n1     Ama Qamata, Khosi Ngema, Gail Mabalane, Thaban...   \n2                                       Julien Leclercq   \n3                                                   NaN   \n4     Mayur More, Jitendra Kumar, Ranjan Raj, Alam K...   \n...                                                 ...   \n8785                                      David Fincher   \n8786                                                NaN   \n8787                                    Ruben Fleischer   \n8788                                       Peter Hewitt   \n8789                                        Mozez Singh   \n\n                                                   cast        country  \\\n0                                                   NaN  United States   \n1     Ama Qamata, Khosi Ngema, Gail Mabalane, Thaban...   South Africa   \n2     Sami Bouajila, Tracy Gotoas, Samuel Jouy, Nabi...            NaN   \n3                                                   NaN            NaN   \n4     Mayur More, Jitendra Kumar, Ranjan Raj, Alam K...          India   \n...                                                 ...            ...   \n8785  Mark Ruffalo, Jake Gyllenhaal, Robert Downey J...  United States   \n8786                                                NaN            NaN   \n8787  Jesse Eisenberg, Woody Harrelson, Emma Stone, ...  United States   \n8788  Tim Allen, Courteney Cox, Chevy Chase, Kate Ma...  United States   \n8789  Vicky Kaushal, Sarah-Jane Dias, Raaghav Chanan...          India   \n\n              date_added  release_year rating   duration  \\\n0     September 25, 2021          2020  PG-13     90 min   \n1     September 24, 2021          2021  TV-MA  2 Seasons   \n2     September 24, 2021          2021  TV-MA   1 Season   \n3     September 24, 2021          2021  TV-MA   1 Season   \n4     September 24, 2021          2021  TV-MA  2 Seasons   \n...                  ...           ...    ...        ...   \n8785   November 20, 2019          2007      R    158 min   \n8786        July 1, 2019          2018  TV-Y7  2 Seasons   \n8787    November 1, 2019          2009      R     88 min   \n8788    January 11, 2020          2006     PG     88 min   \n8789       March 2, 2019          2015  TV-14    111 min   \n\n                                              listed_in  \\\n0                                         Documentaries   \n1       International TV Shows, TV Dramas, TV Mysteries   \n2     Crime TV Shows, International TV Shows, TV Act...   \n3                                Docuseries, Reality TV   \n4     International TV Shows, Romantic TV Shows, TV ...   \n...                                                 ...   \n8785                     Cult Movies, Dramas, Thrillers   \n8786             Kids' TV, Korean TV Shows, TV Comedies   \n8787                            Comedies, Horror Movies   \n8788                 Children & Family Movies, Comedies   \n8789     Dramas, International Movies, Music & Musicals   \n\n                                            description  \n0     As her father nears the end of his life, filmm...  \n1     After crossing paths at a party, a Cape Town t...  \n2     To protect his family from a powerful drug lor...  \n3     Feuds, flirtations and toilet talk go down amo...  \n4     In a city of coaching centers known to train I...  \n...                                                 ...  \n8785  A political cartoonist, a crime reporter and a...  \n8786  While living alone in a spooky town, a young g...  \n8787  Looking to survive in a world taken over by zo...  \n8788  Dragged from civilian life, a former superhero...  \n8789  A scrappy but poor boy worms his way into a ty...  \n\n[8790 rows x 12 columns]\n",
          "output_type": "stream"
        }
      ],
      "id": "71b29fc2-2fe2-4096-9330-7cf6c89317e0"
    },
    {
      "cell_type": "code",
      "source": "df.isnull().sum()",
      "metadata": {
        "trusted": true
      },
      "execution_count": 43,
      "outputs": [
        {
          "execution_count": 43,
          "output_type": "execute_result",
          "data": {
            "text/plain": "show_id           0\ntype              0\ntitle             0\ndirector        352\ncast            825\ncountry         829\ndate_added        0\nrelease_year      0\nrating            0\nduration          0\nlisted_in         0\ndescription       0\ndtype: int64"
          },
          "metadata": {}
        }
      ],
      "id": "70258f16-c849-4ccd-8a8f-d18f25778075"
    },
    {
      "cell_type": "markdown",
      "source": "Populate the rest of the NULL in director and cast as \"Not Given\"",
      "metadata": {},
      "id": "48e8a905-b4e3-4772-a19e-e6a9a76073a1"
    },
    {
      "cell_type": "code",
      "source": "# Populate 'director' column with 'Not Given' for remaining null rows\ndf['cast'].fillna('Not Given', inplace=True)\ndf['director'].fillna('Not Given', inplace=True)\n# Now, 'director' column should be updated with 'Not Given' for remaining null rows\nprint(df)\n",
      "metadata": {
        "trusted": true
      },
      "execution_count": 44,
      "outputs": [
        {
          "name": "stdout",
          "text": "     show_id     type                  title  \\\n0         s1    Movie   Dick Johnson Is Dead   \n1         s2  TV Show          Blood & Water   \n2         s3  TV Show              Ganglands   \n3         s4  TV Show  Jailbirds New Orleans   \n4         s5  TV Show           Kota Factory   \n...      ...      ...                    ...   \n8785   s8803    Movie                 Zodiac   \n8786   s8804  TV Show            Zombie Dumb   \n8787   s8805    Movie             Zombieland   \n8788   s8806    Movie                   Zoom   \n8789   s8807    Movie                 Zubaan   \n\n                                               director  \\\n0                                       Kirsten Johnson   \n1     Ama Qamata, Khosi Ngema, Gail Mabalane, Thaban...   \n2                                       Julien Leclercq   \n3                                             Not Given   \n4     Mayur More, Jitendra Kumar, Ranjan Raj, Alam K...   \n...                                                 ...   \n8785                                      David Fincher   \n8786                                          Not Given   \n8787                                    Ruben Fleischer   \n8788                                       Peter Hewitt   \n8789                                        Mozez Singh   \n\n                                                   cast        country  \\\n0                                             Not Given  United States   \n1     Ama Qamata, Khosi Ngema, Gail Mabalane, Thaban...   South Africa   \n2     Sami Bouajila, Tracy Gotoas, Samuel Jouy, Nabi...            NaN   \n3                                             Not Given            NaN   \n4     Mayur More, Jitendra Kumar, Ranjan Raj, Alam K...          India   \n...                                                 ...            ...   \n8785  Mark Ruffalo, Jake Gyllenhaal, Robert Downey J...  United States   \n8786                                          Not Given            NaN   \n8787  Jesse Eisenberg, Woody Harrelson, Emma Stone, ...  United States   \n8788  Tim Allen, Courteney Cox, Chevy Chase, Kate Ma...  United States   \n8789  Vicky Kaushal, Sarah-Jane Dias, Raaghav Chanan...          India   \n\n              date_added  release_year rating   duration  \\\n0     September 25, 2021          2020  PG-13     90 min   \n1     September 24, 2021          2021  TV-MA  2 Seasons   \n2     September 24, 2021          2021  TV-MA   1 Season   \n3     September 24, 2021          2021  TV-MA   1 Season   \n4     September 24, 2021          2021  TV-MA  2 Seasons   \n...                  ...           ...    ...        ...   \n8785   November 20, 2019          2007      R    158 min   \n8786        July 1, 2019          2018  TV-Y7  2 Seasons   \n8787    November 1, 2019          2009      R     88 min   \n8788    January 11, 2020          2006     PG     88 min   \n8789       March 2, 2019          2015  TV-14    111 min   \n\n                                              listed_in  \\\n0                                         Documentaries   \n1       International TV Shows, TV Dramas, TV Mysteries   \n2     Crime TV Shows, International TV Shows, TV Act...   \n3                                Docuseries, Reality TV   \n4     International TV Shows, Romantic TV Shows, TV ...   \n...                                                 ...   \n8785                     Cult Movies, Dramas, Thrillers   \n8786             Kids' TV, Korean TV Shows, TV Comedies   \n8787                            Comedies, Horror Movies   \n8788                 Children & Family Movies, Comedies   \n8789     Dramas, International Movies, Music & Musicals   \n\n                                            description  \n0     As her father nears the end of his life, filmm...  \n1     After crossing paths at a party, a Cape Town t...  \n2     To protect his family from a powerful drug lor...  \n3     Feuds, flirtations and toilet talk go down amo...  \n4     In a city of coaching centers known to train I...  \n...                                                 ...  \n8785  A political cartoonist, a crime reporter and a...  \n8786  While living alone in a spooky town, a young g...  \n8787  Looking to survive in a world taken over by zo...  \n8788  Dragged from civilian life, a former superhero...  \n8789  A scrappy but poor boy worms his way into a ty...  \n\n[8790 rows x 12 columns]\n",
          "output_type": "stream"
        }
      ],
      "id": "3f24913f-e8c9-46e6-bc85-c92e591b842b"
    },
    {
      "cell_type": "code",
      "source": "df.isnull().sum()",
      "metadata": {
        "trusted": true
      },
      "execution_count": 45,
      "outputs": [
        {
          "execution_count": 45,
          "output_type": "execute_result",
          "data": {
            "text/plain": "show_id           0\ntype              0\ntitle             0\ndirector          0\ncast              0\ncountry         829\ndate_added        0\nrelease_year      0\nrating            0\nduration          0\nlisted_in         0\ndescription       0\ndtype: int64"
          },
          "metadata": {}
        }
      ],
      "id": "c9277fe6-92a7-4e2b-af06-679167dc32bc"
    },
    {
      "cell_type": "markdown",
      "source": "Just like the director column, I will not delete the nulls in country. Since the country column is related to director and movie, we are going to populate the country column with the director column",
      "metadata": {},
      "id": "d27f533b-1ee8-4b8c-9f78-3d466a124638"
    },
    {
      "cell_type": "code",
      "source": "# Populate null values in the country with the directors \ndf['country'].fillna(df['director'], inplace=True)\nprint(df)\n",
      "metadata": {
        "trusted": true
      },
      "execution_count": 46,
      "outputs": [
        {
          "name": "stdout",
          "text": "     show_id     type                  title  \\\n0         s1    Movie   Dick Johnson Is Dead   \n1         s2  TV Show          Blood & Water   \n2         s3  TV Show              Ganglands   \n3         s4  TV Show  Jailbirds New Orleans   \n4         s5  TV Show           Kota Factory   \n...      ...      ...                    ...   \n8785   s8803    Movie                 Zodiac   \n8786   s8804  TV Show            Zombie Dumb   \n8787   s8805    Movie             Zombieland   \n8788   s8806    Movie                   Zoom   \n8789   s8807    Movie                 Zubaan   \n\n                                               director  \\\n0                                       Kirsten Johnson   \n1     Ama Qamata, Khosi Ngema, Gail Mabalane, Thaban...   \n2                                       Julien Leclercq   \n3                                             Not Given   \n4     Mayur More, Jitendra Kumar, Ranjan Raj, Alam K...   \n...                                                 ...   \n8785                                      David Fincher   \n8786                                          Not Given   \n8787                                    Ruben Fleischer   \n8788                                       Peter Hewitt   \n8789                                        Mozez Singh   \n\n                                                   cast          country  \\\n0                                             Not Given    United States   \n1     Ama Qamata, Khosi Ngema, Gail Mabalane, Thaban...     South Africa   \n2     Sami Bouajila, Tracy Gotoas, Samuel Jouy, Nabi...  Julien Leclercq   \n3                                             Not Given        Not Given   \n4     Mayur More, Jitendra Kumar, Ranjan Raj, Alam K...            India   \n...                                                 ...              ...   \n8785  Mark Ruffalo, Jake Gyllenhaal, Robert Downey J...    United States   \n8786                                          Not Given        Not Given   \n8787  Jesse Eisenberg, Woody Harrelson, Emma Stone, ...    United States   \n8788  Tim Allen, Courteney Cox, Chevy Chase, Kate Ma...    United States   \n8789  Vicky Kaushal, Sarah-Jane Dias, Raaghav Chanan...            India   \n\n              date_added  release_year rating   duration  \\\n0     September 25, 2021          2020  PG-13     90 min   \n1     September 24, 2021          2021  TV-MA  2 Seasons   \n2     September 24, 2021          2021  TV-MA   1 Season   \n3     September 24, 2021          2021  TV-MA   1 Season   \n4     September 24, 2021          2021  TV-MA  2 Seasons   \n...                  ...           ...    ...        ...   \n8785   November 20, 2019          2007      R    158 min   \n8786        July 1, 2019          2018  TV-Y7  2 Seasons   \n8787    November 1, 2019          2009      R     88 min   \n8788    January 11, 2020          2006     PG     88 min   \n8789       March 2, 2019          2015  TV-14    111 min   \n\n                                              listed_in  \\\n0                                         Documentaries   \n1       International TV Shows, TV Dramas, TV Mysteries   \n2     Crime TV Shows, International TV Shows, TV Act...   \n3                                Docuseries, Reality TV   \n4     International TV Shows, Romantic TV Shows, TV ...   \n...                                                 ...   \n8785                     Cult Movies, Dramas, Thrillers   \n8786             Kids' TV, Korean TV Shows, TV Comedies   \n8787                            Comedies, Horror Movies   \n8788                 Children & Family Movies, Comedies   \n8789     Dramas, International Movies, Music & Musicals   \n\n                                            description  \n0     As her father nears the end of his life, filmm...  \n1     After crossing paths at a party, a Cape Town t...  \n2     To protect his family from a powerful drug lor...  \n3     Feuds, flirtations and toilet talk go down amo...  \n4     In a city of coaching centers known to train I...  \n...                                                 ...  \n8785  A political cartoonist, a crime reporter and a...  \n8786  While living alone in a spooky town, a young g...  \n8787  Looking to survive in a world taken over by zo...  \n8788  Dragged from civilian life, a former superhero...  \n8789  A scrappy but poor boy worms his way into a ty...  \n\n[8790 rows x 12 columns]\n",
          "output_type": "stream"
        }
      ],
      "id": "4ec75936-197c-4b8d-9b11-c52c1ded7c14"
    },
    {
      "cell_type": "code",
      "source": "# Populate null values in the country with the directors \ndf['country'].fillna(df['director'], inplace=True)\nprint(df)\n",
      "metadata": {
        "trusted": true
      },
      "execution_count": 47,
      "outputs": [
        {
          "name": "stdout",
          "text": "     show_id     type                  title  \\\n0         s1    Movie   Dick Johnson Is Dead   \n1         s2  TV Show          Blood & Water   \n2         s3  TV Show              Ganglands   \n3         s4  TV Show  Jailbirds New Orleans   \n4         s5  TV Show           Kota Factory   \n...      ...      ...                    ...   \n8785   s8803    Movie                 Zodiac   \n8786   s8804  TV Show            Zombie Dumb   \n8787   s8805    Movie             Zombieland   \n8788   s8806    Movie                   Zoom   \n8789   s8807    Movie                 Zubaan   \n\n                                               director  \\\n0                                       Kirsten Johnson   \n1     Ama Qamata, Khosi Ngema, Gail Mabalane, Thaban...   \n2                                       Julien Leclercq   \n3                                             Not Given   \n4     Mayur More, Jitendra Kumar, Ranjan Raj, Alam K...   \n...                                                 ...   \n8785                                      David Fincher   \n8786                                          Not Given   \n8787                                    Ruben Fleischer   \n8788                                       Peter Hewitt   \n8789                                        Mozez Singh   \n\n                                                   cast          country  \\\n0                                             Not Given    United States   \n1     Ama Qamata, Khosi Ngema, Gail Mabalane, Thaban...     South Africa   \n2     Sami Bouajila, Tracy Gotoas, Samuel Jouy, Nabi...  Julien Leclercq   \n3                                             Not Given        Not Given   \n4     Mayur More, Jitendra Kumar, Ranjan Raj, Alam K...            India   \n...                                                 ...              ...   \n8785  Mark Ruffalo, Jake Gyllenhaal, Robert Downey J...    United States   \n8786                                          Not Given        Not Given   \n8787  Jesse Eisenberg, Woody Harrelson, Emma Stone, ...    United States   \n8788  Tim Allen, Courteney Cox, Chevy Chase, Kate Ma...    United States   \n8789  Vicky Kaushal, Sarah-Jane Dias, Raaghav Chanan...            India   \n\n              date_added  release_year rating   duration  \\\n0     September 25, 2021          2020  PG-13     90 min   \n1     September 24, 2021          2021  TV-MA  2 Seasons   \n2     September 24, 2021          2021  TV-MA   1 Season   \n3     September 24, 2021          2021  TV-MA   1 Season   \n4     September 24, 2021          2021  TV-MA  2 Seasons   \n...                  ...           ...    ...        ...   \n8785   November 20, 2019          2007      R    158 min   \n8786        July 1, 2019          2018  TV-Y7  2 Seasons   \n8787    November 1, 2019          2009      R     88 min   \n8788    January 11, 2020          2006     PG     88 min   \n8789       March 2, 2019          2015  TV-14    111 min   \n\n                                              listed_in  \\\n0                                         Documentaries   \n1       International TV Shows, TV Dramas, TV Mysteries   \n2     Crime TV Shows, International TV Shows, TV Act...   \n3                                Docuseries, Reality TV   \n4     International TV Shows, Romantic TV Shows, TV ...   \n...                                                 ...   \n8785                     Cult Movies, Dramas, Thrillers   \n8786             Kids' TV, Korean TV Shows, TV Comedies   \n8787                            Comedies, Horror Movies   \n8788                 Children & Family Movies, Comedies   \n8789     Dramas, International Movies, Music & Musicals   \n\n                                            description  \n0     As her father nears the end of his life, filmm...  \n1     After crossing paths at a party, a Cape Town t...  \n2     To protect his family from a powerful drug lor...  \n3     Feuds, flirtations and toilet talk go down amo...  \n4     In a city of coaching centers known to train I...  \n...                                                 ...  \n8785  A political cartoonist, a crime reporter and a...  \n8786  While living alone in a spooky town, a young g...  \n8787  Looking to survive in a world taken over by zo...  \n8788  Dragged from civilian life, a former superhero...  \n8789  A scrappy but poor boy worms his way into a ty...  \n\n[8790 rows x 12 columns]\n",
          "output_type": "stream"
        }
      ],
      "id": "d5c9fe4f-aa75-49af-a1e3-ceab49ea018b"
    },
    {
      "cell_type": "code",
      "source": "df.isnull().sum()",
      "metadata": {
        "trusted": true
      },
      "execution_count": 48,
      "outputs": [
        {
          "execution_count": 48,
          "output_type": "execute_result",
          "data": {
            "text/plain": "show_id         0\ntype            0\ntitle           0\ndirector        0\ncast            0\ncountry         0\ndate_added      0\nrelease_year    0\nrating          0\nduration        0\nlisted_in       0\ndescription     0\ndtype: int64"
          },
          "metadata": {}
        }
      ],
      "id": "eda4c480-31e8-4c1e-9b3e-8310152eb061"
    },
    {
      "cell_type": "code",
      "source": "df.head()",
      "metadata": {
        "trusted": true
      },
      "execution_count": 53,
      "outputs": [
        {
          "execution_count": 53,
          "output_type": "execute_result",
          "data": {
            "text/plain": "  show_id     type                  title  \\\n0      s1    Movie   Dick Johnson Is Dead   \n1      s2  TV Show          Blood & Water   \n2      s3  TV Show              Ganglands   \n3      s4  TV Show  Jailbirds New Orleans   \n4      s5  TV Show           Kota Factory   \n\n                                            director  \\\n0                                    Kirsten Johnson   \n1  Ama Qamata, Khosi Ngema, Gail Mabalane, Thaban...   \n2                                    Julien Leclercq   \n3                                          Not Given   \n4  Mayur More, Jitendra Kumar, Ranjan Raj, Alam K...   \n\n                                                cast          country  \\\n0                                          Not Given    United States   \n1  Ama Qamata, Khosi Ngema, Gail Mabalane, Thaban...     South Africa   \n2  Sami Bouajila, Tracy Gotoas, Samuel Jouy, Nabi...  Julien Leclercq   \n3                                          Not Given        Not Given   \n4  Mayur More, Jitendra Kumar, Ranjan Raj, Alam K...            India   \n\n           date_added  release_year rating   duration  \\\n0  September 25, 2021          2020  PG-13     90 min   \n1  September 24, 2021          2021  TV-MA  2 Seasons   \n2  September 24, 2021          2021  TV-MA   1 Season   \n3  September 24, 2021          2021  TV-MA   1 Season   \n4  September 24, 2021          2021  TV-MA  2 Seasons   \n\n                                           listed_in  \\\n0                                      Documentaries   \n1    International TV Shows, TV Dramas, TV Mysteries   \n2  Crime TV Shows, International TV Shows, TV Act...   \n3                             Docuseries, Reality TV   \n4  International TV Shows, Romantic TV Shows, TV ...   \n\n                                         description  \n0  As her father nears the end of his life, filmm...  \n1  After crossing paths at a party, a Cape Town t...  \n2  To protect his family from a powerful drug lor...  \n3  Feuds, flirtations and toilet talk go down amo...  \n4  In a city of coaching centers known to train I...  ",
            "text/html": "<div>\n<style scoped>\n    .dataframe tbody tr th:only-of-type {\n        vertical-align: middle;\n    }\n\n    .dataframe tbody tr th {\n        vertical-align: top;\n    }\n\n    .dataframe thead th {\n        text-align: right;\n    }\n</style>\n<table border=\"1\" class=\"dataframe\">\n  <thead>\n    <tr style=\"text-align: right;\">\n      <th></th>\n      <th>show_id</th>\n      <th>type</th>\n      <th>title</th>\n      <th>director</th>\n      <th>cast</th>\n      <th>country</th>\n      <th>date_added</th>\n      <th>release_year</th>\n      <th>rating</th>\n      <th>duration</th>\n      <th>listed_in</th>\n      <th>description</th>\n    </tr>\n  </thead>\n  <tbody>\n    <tr>\n      <th>0</th>\n      <td>s1</td>\n      <td>Movie</td>\n      <td>Dick Johnson Is Dead</td>\n      <td>Kirsten Johnson</td>\n      <td>Not Given</td>\n      <td>United States</td>\n      <td>September 25, 2021</td>\n      <td>2020</td>\n      <td>PG-13</td>\n      <td>90 min</td>\n      <td>Documentaries</td>\n      <td>As her father nears the end of his life, filmm...</td>\n    </tr>\n    <tr>\n      <th>1</th>\n      <td>s2</td>\n      <td>TV Show</td>\n      <td>Blood &amp; Water</td>\n      <td>Ama Qamata, Khosi Ngema, Gail Mabalane, Thaban...</td>\n      <td>Ama Qamata, Khosi Ngema, Gail Mabalane, Thaban...</td>\n      <td>South Africa</td>\n      <td>September 24, 2021</td>\n      <td>2021</td>\n      <td>TV-MA</td>\n      <td>2 Seasons</td>\n      <td>International TV Shows, TV Dramas, TV Mysteries</td>\n      <td>After crossing paths at a party, a Cape Town t...</td>\n    </tr>\n    <tr>\n      <th>2</th>\n      <td>s3</td>\n      <td>TV Show</td>\n      <td>Ganglands</td>\n      <td>Julien Leclercq</td>\n      <td>Sami Bouajila, Tracy Gotoas, Samuel Jouy, Nabi...</td>\n      <td>Julien Leclercq</td>\n      <td>September 24, 2021</td>\n      <td>2021</td>\n      <td>TV-MA</td>\n      <td>1 Season</td>\n      <td>Crime TV Shows, International TV Shows, TV Act...</td>\n      <td>To protect his family from a powerful drug lor...</td>\n    </tr>\n    <tr>\n      <th>3</th>\n      <td>s4</td>\n      <td>TV Show</td>\n      <td>Jailbirds New Orleans</td>\n      <td>Not Given</td>\n      <td>Not Given</td>\n      <td>Not Given</td>\n      <td>September 24, 2021</td>\n      <td>2021</td>\n      <td>TV-MA</td>\n      <td>1 Season</td>\n      <td>Docuseries, Reality TV</td>\n      <td>Feuds, flirtations and toilet talk go down amo...</td>\n    </tr>\n    <tr>\n      <th>4</th>\n      <td>s5</td>\n      <td>TV Show</td>\n      <td>Kota Factory</td>\n      <td>Mayur More, Jitendra Kumar, Ranjan Raj, Alam K...</td>\n      <td>Mayur More, Jitendra Kumar, Ranjan Raj, Alam K...</td>\n      <td>India</td>\n      <td>September 24, 2021</td>\n      <td>2021</td>\n      <td>TV-MA</td>\n      <td>2 Seasons</td>\n      <td>International TV Shows, Romantic TV Shows, TV ...</td>\n      <td>In a city of coaching centers known to train I...</td>\n    </tr>\n  </tbody>\n</table>\n</div>"
          },
          "metadata": {}
        }
      ],
      "id": "3a930e2a-ca07-4b11-98fa-8f774ca8588c"
    },
    {
      "cell_type": "markdown",
      "source": "We can drop the description and movie_cast column because they are not needed for our analysis or visualization task.",
      "metadata": {},
      "id": "5bf65e85-cb44-44ec-b3ac-a89b7da6902a"
    },
    {
      "cell_type": "code",
      "source": "df.drop(['description','cast'],axis=1).head(1)",
      "metadata": {
        "trusted": true
      },
      "execution_count": 54,
      "outputs": [
        {
          "execution_count": 54,
          "output_type": "execute_result",
          "data": {
            "text/plain": "  show_id   type                 title         director        country  \\\n0      s1  Movie  Dick Johnson Is Dead  Kirsten Johnson  United States   \n\n           date_added  release_year rating duration      listed_in  \n0  September 25, 2021          2020  PG-13   90 min  Documentaries  ",
            "text/html": "<div>\n<style scoped>\n    .dataframe tbody tr th:only-of-type {\n        vertical-align: middle;\n    }\n\n    .dataframe tbody tr th {\n        vertical-align: top;\n    }\n\n    .dataframe thead th {\n        text-align: right;\n    }\n</style>\n<table border=\"1\" class=\"dataframe\">\n  <thead>\n    <tr style=\"text-align: right;\">\n      <th></th>\n      <th>show_id</th>\n      <th>type</th>\n      <th>title</th>\n      <th>director</th>\n      <th>country</th>\n      <th>date_added</th>\n      <th>release_year</th>\n      <th>rating</th>\n      <th>duration</th>\n      <th>listed_in</th>\n    </tr>\n  </thead>\n  <tbody>\n    <tr>\n      <th>0</th>\n      <td>s1</td>\n      <td>Movie</td>\n      <td>Dick Johnson Is Dead</td>\n      <td>Kirsten Johnson</td>\n      <td>United States</td>\n      <td>September 25, 2021</td>\n      <td>2020</td>\n      <td>PG-13</td>\n      <td>90 min</td>\n      <td>Documentaries</td>\n    </tr>\n  </tbody>\n</table>\n</div>"
          },
          "metadata": {}
        }
      ],
      "id": "ad601f5a-229a-4c65-a329-db5a352d7b78"
    },
    {
      "cell_type": "markdown",
      "source": "Some of the rows in country column has multiple countries, for my visualization, we only need one country per row to make my map visualization clean and easy. Therefore, I am going to split the country column and retain the first country by the left which I believe is the original country of the movie",
      "metadata": {},
      "id": "0bc25f51-ad68-4914-8653-aa25b8edf9fd"
    },
    {
      "cell_type": "code",
      "source": "# Split the 'country' column and retain only the first country\ndf['country'] = df['country'].str.split(',').str[0]\n# Now, delete the original 'country' column with multiple entries\ndf.drop('country', axis=1, inplace=True)\n# Now, 'country' column should contain only the first country for each row\nprint(df)\n",
      "metadata": {
        "trusted": true
      },
      "execution_count": 56,
      "outputs": [
        {
          "name": "stdout",
          "text": "     show_id     type                  title  \\\n0         s1    Movie   Dick Johnson Is Dead   \n1         s2  TV Show          Blood & Water   \n2         s3  TV Show              Ganglands   \n3         s4  TV Show  Jailbirds New Orleans   \n4         s5  TV Show           Kota Factory   \n...      ...      ...                    ...   \n8785   s8803    Movie                 Zodiac   \n8786   s8804  TV Show            Zombie Dumb   \n8787   s8805    Movie             Zombieland   \n8788   s8806    Movie                   Zoom   \n8789   s8807    Movie                 Zubaan   \n\n                                               director  \\\n0                                       Kirsten Johnson   \n1     Ama Qamata, Khosi Ngema, Gail Mabalane, Thaban...   \n2                                       Julien Leclercq   \n3                                             Not Given   \n4     Mayur More, Jitendra Kumar, Ranjan Raj, Alam K...   \n...                                                 ...   \n8785                                      David Fincher   \n8786                                          Not Given   \n8787                                    Ruben Fleischer   \n8788                                       Peter Hewitt   \n8789                                        Mozez Singh   \n\n                                                   cast          date_added  \\\n0                                             Not Given  September 25, 2021   \n1     Ama Qamata, Khosi Ngema, Gail Mabalane, Thaban...  September 24, 2021   \n2     Sami Bouajila, Tracy Gotoas, Samuel Jouy, Nabi...  September 24, 2021   \n3                                             Not Given  September 24, 2021   \n4     Mayur More, Jitendra Kumar, Ranjan Raj, Alam K...  September 24, 2021   \n...                                                 ...                 ...   \n8785  Mark Ruffalo, Jake Gyllenhaal, Robert Downey J...   November 20, 2019   \n8786                                          Not Given        July 1, 2019   \n8787  Jesse Eisenberg, Woody Harrelson, Emma Stone, ...    November 1, 2019   \n8788  Tim Allen, Courteney Cox, Chevy Chase, Kate Ma...    January 11, 2020   \n8789  Vicky Kaushal, Sarah-Jane Dias, Raaghav Chanan...       March 2, 2019   \n\n      release_year rating   duration  \\\n0             2020  PG-13     90 min   \n1             2021  TV-MA  2 Seasons   \n2             2021  TV-MA   1 Season   \n3             2021  TV-MA   1 Season   \n4             2021  TV-MA  2 Seasons   \n...            ...    ...        ...   \n8785          2007      R    158 min   \n8786          2018  TV-Y7  2 Seasons   \n8787          2009      R     88 min   \n8788          2006     PG     88 min   \n8789          2015  TV-14    111 min   \n\n                                              listed_in  \\\n0                                         Documentaries   \n1       International TV Shows, TV Dramas, TV Mysteries   \n2     Crime TV Shows, International TV Shows, TV Act...   \n3                                Docuseries, Reality TV   \n4     International TV Shows, Romantic TV Shows, TV ...   \n...                                                 ...   \n8785                     Cult Movies, Dramas, Thrillers   \n8786             Kids' TV, Korean TV Shows, TV Comedies   \n8787                            Comedies, Horror Movies   \n8788                 Children & Family Movies, Comedies   \n8789     Dramas, International Movies, Music & Musicals   \n\n                                            description  \n0     As her father nears the end of his life, filmm...  \n1     After crossing paths at a party, a Cape Town t...  \n2     To protect his family from a powerful drug lor...  \n3     Feuds, flirtations and toilet talk go down amo...  \n4     In a city of coaching centers known to train I...  \n...                                                 ...  \n8785  A political cartoonist, a crime reporter and a...  \n8786  While living alone in a spooky town, a young g...  \n8787  Looking to survive in a world taken over by zo...  \n8788  Dragged from civilian life, a former superhero...  \n8789  A scrappy but poor boy worms his way into a ty...  \n\n[8790 rows x 11 columns]\n",
          "output_type": "stream"
        }
      ],
      "id": "ac159d61-396a-4e4e-88e6-938ce791266b"
    },
    {
      "cell_type": "code",
      "source": "",
      "metadata": {},
      "execution_count": null,
      "outputs": [],
      "id": "665191ca-04dc-4380-8379-2aca544d22cb"
    },
    {
      "cell_type": "markdown",
      "source": "<h3 id=\"check_data_format\">Check data format</h3>\n\n<p>The last step in data cleaning is checking and making sure that all data is in the correct format (int, float, text or other).</p>\n\nIn Pandas, we use:\n<p><b>.dtype()</b> to check the data type</p>\n<p><b>.astype()</b> to change the data type</p>\n\nLets list the data types for each column...",
      "metadata": {},
      "id": "2793a8c0-7765-4cb4-8167-4ca27404abc2"
    },
    {
      "cell_type": "code",
      "source": "df.dtypes",
      "metadata": {
        "trusted": true
      },
      "execution_count": 50,
      "outputs": [
        {
          "execution_count": 50,
          "output_type": "execute_result",
          "data": {
            "text/plain": "show_id         object\ntype            object\ntitle           object\ndirector        object\ncast            object\ncountry         object\ndate_added      object\nrelease_year     int64\nrating          object\nduration        object\nlisted_in       object\ndescription     object\ndtype: object"
          },
          "metadata": {}
        }
      ],
      "id": "3198e7b9-b483-4611-ad25-4bcfe797685e"
    },
    {
      "cell_type": "code",
      "source": "# Convert to CSV file\ndf.to_csv('wrangled_netflix_titles_data.csv')",
      "metadata": {
        "trusted": true
      },
      "execution_count": 57,
      "outputs": [],
      "id": "29e3efdd-a7d8-40eb-b4e3-9c755b010385"
    },
    {
      "cell_type": "code",
      "source": "",
      "metadata": {},
      "execution_count": null,
      "outputs": [],
      "id": "df37f354-7889-4bfb-922e-7c8fa65c0c1b"
    }
  ]
}